{
 "cells": [
  {
   "cell_type": "code",
   "execution_count": 15,
   "metadata": {},
   "outputs": [],
   "source": [
    "#importing the libraries needed \n",
    "import pandas as pd\n",
    "import numpy as np\n",
    "import requests\n",
    "from bs4 import BeautifulSoup\n",
    "from time import sleep\n",
    "from random import randint\n",
    "\n",
    "#Declaring the headers \n",
    "headers = {\"Accept-Language\": \"en-US,en;q=0.5\"}"
   ]
  },
  {
   "cell_type": "code",
   "execution_count": 16,
   "metadata": {},
   "outputs": [],
   "source": [
    "#declaring the list of empty variables, So that we can append the data overall\n",
    "flat_type=[]\n",
    "location=[]\n",
    "price=[]\n",
    "area=[]\n",
    "\n",
    "agent=[]"
   ]
  },
  {
   "cell_type": "code",
   "execution_count": 17,
   "metadata": {},
   "outputs": [],
   "source": [
    "#creating an array of values and passing it in the url for dynamic webpages\n",
    "pages = np.arange(1,100,24)"
   ]
  },
  {
   "cell_type": "code",
   "execution_count": 18,
   "metadata": {},
   "outputs": [],
   "source": [
    "#the whole core of the script\n",
    "for page in pages:\n",
    "    page = requests.get(\"https://www.propertiesguru.com/residential-search/3bhk-residential_apartment_flat-for-sale-in-new_delhi\", headers={'User-Agent': 'Chrome/5.0'})\n",
    "    soup = BeautifulSoup(page.text, 'html.parser')\n",
    "    flat_data = soup.findAll('div', attrs = {'class': 'filter-property-list detailurl'})\n",
    "    sleep(randint(2,8))\n",
    "    for store in flat_data:\n",
    "        \n",
    "        flat_type=store.find(\"h1\", class_='filter-pro-heading').text\n",
    "        flat_type.format(flat_type)\n",
    "        \n",
    "   \n",
    "        \n",
    "        loc=store.find(\"a\", class_='fullscreen').text\n",
    "        location.append(loc)\n",
    "        \n",
    "    \n",
    "    \n",
    "        agent=store.find(\"span\", class_='owner-name').text\n",
    "        agent.format(agent)\n",
    "        \n",
    "        price=store.find(\"span\", class_='price').text\n",
    "        price.format(price)\n",
    "        \n",
    "        area=store.find(\"div\", class_='col-4').text\n",
    "        area.format(area)\n",
    "        \n",
    "        \n",
    "        \n",
    "        \n",
    "        \n",
    "        \n",
    "        "
   ]
  },
  {
   "cell_type": "code",
   "execution_count": 19,
   "metadata": {},
   "outputs": [],
   "source": [
    "#creating a dataframe \n",
    "movie_list = pd.DataFrame({\"flat_type\":flat_type,\"location\":location,\"agent\":agent,\"price\":price,\"area\":area})"
   ]
  },
  {
   "cell_type": "code",
   "execution_count": 20,
   "metadata": {},
   "outputs": [],
   "source": [
    "movie_list.to_csv(\"3bhk.csv\")"
   ]
  },
  {
   "cell_type": "code",
   "execution_count": null,
   "metadata": {},
   "outputs": [],
   "source": []
  }
 ],
 "metadata": {
  "kernelspec": {
   "display_name": "Python 3",
   "language": "python",
   "name": "python3"
  },
  "language_info": {
   "codemirror_mode": {
    "name": "ipython",
    "version": 3
   },
   "file_extension": ".py",
   "mimetype": "text/x-python",
   "name": "python",
   "nbconvert_exporter": "python",
   "pygments_lexer": "ipython3",
   "version": "3.6.4"
  }
 },
 "nbformat": 4,
 "nbformat_minor": 2
}
